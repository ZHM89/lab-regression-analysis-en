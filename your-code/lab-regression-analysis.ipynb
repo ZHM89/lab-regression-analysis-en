{
 "cells": [
  {
   "cell_type": "markdown",
   "metadata": {},
   "source": [
    "# Lab: Regression Analysis"
   ]
  },
  {
   "cell_type": "markdown",
   "metadata": {},
   "source": [
    "### Before you start:\n",
    "\n",
    "* Read the README.md file\n",
    "* Comment as much as you can and use the resources (README.md file) \n",
    "\n",
    "Happy learning!"
   ]
  },
  {
   "cell_type": "markdown",
   "metadata": {},
   "source": [
    "## Challenge 1\n",
    "I work at a coding bootcamp, and I have developed a theory that the younger my students are, the more often they are late to class. In order to test my hypothesis, I have collected some data in the following table:\n",
    "\n",
    "| StudentID | Age | Tardies |\n",
    "|--------|-----|------------|\n",
    "| 1      | 17  | 10         |\n",
    "| 2      | 51  | 1          |\n",
    "| 3      | 27  | 5          |\n",
    "| 4      | 21  | 9         |\n",
    "| 5      | 36  |  4         |\n",
    "| 6      | 48  |  2         |\n",
    "| 7      | 19  |  9         |\n",
    "| 8      | 26  | 6          |\n",
    "| 9      | 54  |  0         |\n",
    "| 10     | 30  |  3         |"
   ]
  },
  {
   "cell_type": "code",
   "execution_count": 1,
   "metadata": {},
   "outputs": [],
   "source": [
    "import pandas as pd\n",
    "import numpy as np\n",
    "import plotly.express as px\n",
    "import statsmodels.api as smf\n",
    "from statsmodels.tools import add_constant\n",
    "from sklearn.linear_model import LinearRegression\n",
    "import matplotlib.pyplot as plt\n",
    "import seaborn as sns"
   ]
  },
  {
   "cell_type": "markdown",
   "metadata": {},
   "source": [
    "Use this command to create a dataframe with the data provided in the table. \n",
    "~~~~\n",
    "student_data = pd.DataFrame({'Age': [17,51,27,21,36,48,19,26,54,30], 'Tardies': [10,1,5,9,4,2,9,6,0,3]})\n",
    "~~~~"
   ]
  },
  {
   "cell_type": "code",
   "execution_count": 2,
   "metadata": {},
   "outputs": [
    {
     "data": {
      "text/html": [
       "<div>\n",
       "<style scoped>\n",
       "    .dataframe tbody tr th:only-of-type {\n",
       "        vertical-align: middle;\n",
       "    }\n",
       "\n",
       "    .dataframe tbody tr th {\n",
       "        vertical-align: top;\n",
       "    }\n",
       "\n",
       "    .dataframe thead th {\n",
       "        text-align: right;\n",
       "    }\n",
       "</style>\n",
       "<table border=\"1\" class=\"dataframe\">\n",
       "  <thead>\n",
       "    <tr style=\"text-align: right;\">\n",
       "      <th></th>\n",
       "      <th>Age</th>\n",
       "      <th>Tardies</th>\n",
       "    </tr>\n",
       "  </thead>\n",
       "  <tbody>\n",
       "    <tr>\n",
       "      <th>0</th>\n",
       "      <td>17</td>\n",
       "      <td>10</td>\n",
       "    </tr>\n",
       "    <tr>\n",
       "      <th>1</th>\n",
       "      <td>51</td>\n",
       "      <td>1</td>\n",
       "    </tr>\n",
       "    <tr>\n",
       "      <th>2</th>\n",
       "      <td>27</td>\n",
       "      <td>5</td>\n",
       "    </tr>\n",
       "    <tr>\n",
       "      <th>3</th>\n",
       "      <td>21</td>\n",
       "      <td>9</td>\n",
       "    </tr>\n",
       "    <tr>\n",
       "      <th>4</th>\n",
       "      <td>36</td>\n",
       "      <td>4</td>\n",
       "    </tr>\n",
       "    <tr>\n",
       "      <th>5</th>\n",
       "      <td>48</td>\n",
       "      <td>2</td>\n",
       "    </tr>\n",
       "    <tr>\n",
       "      <th>6</th>\n",
       "      <td>19</td>\n",
       "      <td>9</td>\n",
       "    </tr>\n",
       "    <tr>\n",
       "      <th>7</th>\n",
       "      <td>26</td>\n",
       "      <td>6</td>\n",
       "    </tr>\n",
       "    <tr>\n",
       "      <th>8</th>\n",
       "      <td>54</td>\n",
       "      <td>0</td>\n",
       "    </tr>\n",
       "    <tr>\n",
       "      <th>9</th>\n",
       "      <td>30</td>\n",
       "      <td>3</td>\n",
       "    </tr>\n",
       "  </tbody>\n",
       "</table>\n",
       "</div>"
      ],
      "text/plain": [
       "   Age  Tardies\n",
       "0   17       10\n",
       "1   51        1\n",
       "2   27        5\n",
       "3   21        9\n",
       "4   36        4\n",
       "5   48        2\n",
       "6   19        9\n",
       "7   26        6\n",
       "8   54        0\n",
       "9   30        3"
      ]
     },
     "execution_count": 2,
     "metadata": {},
     "output_type": "execute_result"
    }
   ],
   "source": [
    "# Your code here. \n",
    "\n",
    "student_data = pd.DataFrame({'Age': [17,51,27,21,36,48,19,26,54,30], \n",
    "                             'Tardies': [10,1,5,9,4,2,9,6,0,3]})\n",
    "student_data"
   ]
  },
  {
   "cell_type": "markdown",
   "metadata": {},
   "source": [
    "Draw a dispersion diagram (scatter plot) for the data."
   ]
  },
  {
   "cell_type": "code",
   "execution_count": 3,
   "metadata": {},
   "outputs": [
    {
     "data": {
      "image/png": "[encoded data removed]",
      "text/plain": [
       "<Figure size 800x600 with 1 Axes>"
      ]
     },
     "metadata": {},
     "output_type": "display_data"
    }
   ],
   "source": [
    "# Your code here\n",
    "\n",
    "# Create the scatter plot\n",
    "plt.figure(figsize=(8, 6))\n",
    "plt.scatter(student_data['Age'], student_data['Tardies'], color='blue', edgecolor='black')\n",
    "\n",
    "# Add labels and title\n",
    "plt.title('Dispersion Diagram: Age vs Tardies')\n",
    "plt.xlabel('Age')\n",
    "plt.ylabel('Tardies')\n",
    "\n",
    "# Show the plot\n",
    "plt.grid(True)\n",
    "plt.show()"
   ]
  },
  {
   "cell_type": "markdown",
   "metadata": {},
   "source": [
    "Do you see a trend? Can you make any hypotheses about the relationship between age and number of tardies?"
   ]
  },
  {
   "cell_type": "markdown",
   "metadata": {},
   "source": [
    "*your explanation here*\n",
    "\n",
    "**Yes**, based on the data provided, there appears to be a negative trend between age and the number of tardies. As age increases, the number of tardies tends to decrease. Let's analyze this further:\n",
    "\n",
    "**Observations:**\n",
    "1. Younger students (e.g., 17, 19, 21 years old) tend to have a higher number of tardies (e.g., 10, 9, 9).\n",
    "2. Older students (e.g., 48, 51, 54 years old) tend to have fewer tardies (e.g., 2, 1, 0).\n",
    "3. The relationship isn't perfectly linear, but the general trend is clear: older students are less likely to be tardy.\n",
    "\n",
    "**Hypotheses:**\n",
    "1. **Maturity and Responsibility**: Older students may be more responsible and better at time management, leading to fewer tardies.\n",
    "2. **Life Experience:** Older students might have more life experience, making them more punctual.\n",
    "3. **Motivation:** Older students could be more motivated (e.g., returning to education after a break) and thus more disciplined.\n",
    "4. **External Factors:** Younger students might face more external distractions (e.g., social life, part-time jobs) that contribute to tardiness."
   ]
  },
  {
   "cell_type": "markdown",
   "metadata": {},
   "source": [
    "**Statistical confirmation of abovementioned hypotheses**"
   ]
  },
  {
   "cell_type": "code",
   "execution_count": 4,
   "metadata": {},
   "outputs": [
    {
     "name": "stdout",
     "output_type": "stream",
     "text": [
      "Correlation between Age and Tardies: -0.94\n"
     ]
    }
   ],
   "source": [
    "correlation = student_data['Age'].corr(student_data['Tardies'])\n",
    "print(f\"Correlation between Age and Tardies: {correlation:.2f}\")"
   ]
  },
  {
   "cell_type": "markdown",
   "metadata": {},
   "source": [
    "**As we can see, this correlation is close to -1, indicating a strong reverse relationship btween `Age` and `Tardiness`.**"
   ]
  },
  {
   "cell_type": "markdown",
   "metadata": {},
   "source": [
    "Calculate the covariance and correlation of the variables in your plot. What is the difference between these two measures? Compare their values. What do they tell you in this case? Add your responses as comments after your code."
   ]
  },
  {
   "cell_type": "code",
   "execution_count": 5,
   "metadata": {},
   "outputs": [
    {
     "name": "stdout",
     "output_type": "stream",
     "text": [
      "Covariance between Age and Tardies: -45.57\n",
      "Correlation between Age and Tardies: -0.94\n"
     ]
    }
   ],
   "source": [
    "# your code here\n",
    "\n",
    "# Calculate covariance\n",
    "covariance = student_data['Age'].cov(student_data['Tardies'])\n",
    "\n",
    "# Calculate correlation (Pearson's r)\n",
    "correlation = student_data['Age'].corr(student_data['Tardies'])\n",
    "\n",
    "# Print results\n",
    "print(f\"Covariance between Age and Tardies: {covariance:.2f}\")\n",
    "print(f\"Correlation between Age and Tardies: {correlation:.2f}\")"
   ]
  },
  {
   "cell_type": "markdown",
   "metadata": {},
   "source": [
    "your explanation here\n",
    "\n",
    "1. **Covariance**: The covariance between Age and Tardies is -47.11. \n",
    "   - Covariance measures the direction of the relationship between two variables. \n",
    "   - A negative value indicates that as one variable increases, the other tends to decrease.\n",
    "   - However, covariance is not standardized, so its magnitude is difficult to interpret on its own.\n",
    "\n",
    "2. **Correlation**: The correlation between Age and Tardies is -0.94.\n",
    "   - Correlation (Pearson's r) standardizes the covariance to a range of -1 to 1, making it easier to interpret.\n",
    "   - A value of -0.94 indicates a strong negative linear relationship between Age and Tardies.\n",
    "   - This means that as students get older, they tend to have fewer tardies.\n",
    "\n",
    "3. **Comparison**:\n",
    "   - Covariance is sensitive to the scale of the variables, while correlation is not.\n",
    "   - Correlation is more interpretable because it provides a clear measure of the strength and direction of the relationship.\n",
    "   - In this case, both measures agree on the direction (negative relationship), but correlation gives a clearer picture of the strength (strong relationship).\n",
    "\n",
    "4. **Conclusion**:\n",
    "   - The strong negative correlation (-0.94) confirms the trend observed in the scatter plot: older students are less likely to be tardy.\n",
    "   - This suggests that age may be a significant factor in predicting tardiness, though further analysis (e.g., controlling for other variables) would be needed to establish causality."
   ]
  },
  {
   "cell_type": "markdown",
   "metadata": {},
   "source": [
    "Build a regression model for this data. What will be your outcome variable? What type of regression are you using? Add your responses as comments after your code."
   ]
  },
  {
   "cell_type": "code",
   "execution_count": 6,
   "metadata": {},
   "outputs": [
    {
     "name": "stdout",
     "output_type": "stream",
     "text": [
      "                            OLS Regression Results                            \n",
      "==============================================================================\n",
      "Dep. Variable:                Tardies   R-squared:                       0.882\n",
      "Model:                            OLS   Adj. R-squared:                  0.867\n",
      "Method:                 Least Squares   F-statistic:                     59.81\n",
      "Date:                Sun, 09 Mar 2025   Prob (F-statistic):           5.57e-05\n",
      "Time:                        17:41:56   Log-Likelihood:                -15.622\n",
      "No. Observations:                  10   AIC:                             35.24\n",
      "Df Residuals:                       8   BIC:                             35.85\n",
      "Df Model:                           1                                         \n",
      "Covariance Type:            nonrobust                                         \n",
      "==============================================================================\n",
      "                 coef    std err          t      P>|t|      [0.025      0.975]\n",
      "------------------------------------------------------------------------------\n",
      "const         12.8888      1.111     11.605      0.000      10.328      15.450\n",
      "Age           -0.2428      0.031     -7.734      0.000      -0.315      -0.170\n",
      "==============================================================================\n",
      "Omnibus:                        3.949   Durbin-Watson:                   1.754\n",
      "Prob(Omnibus):                  0.139   Jarque-Bera (JB):                1.714\n",
      "Skew:                          -1.014   Prob(JB):                        0.424\n",
      "Kurtosis:                       3.069   Cond. No.                         96.4\n",
      "==============================================================================\n",
      "\n",
      "Notes:\n",
      "[1] Standard Errors assume that the covariance matrix of the errors is correctly specified.\n"
     ]
    },
    {
     "name": "stderr",
     "output_type": "stream",
     "text": [
      "C:\\Users\\ZhouZhou\\AppData\\Local\\Packages\\PythonSoftwareFoundation.Python.3.11_qbz5n2kfra8p0\\LocalCache\\local-packages\\Python311\\site-packages\\scipy\\stats\\_stats_py.py:1806: UserWarning: kurtosistest only valid for n>=20 ... continuing anyway, n=10\n",
      "  warnings.warn(\"kurtosistest only valid for n>=20 ... continuing \"\n"
     ]
    }
   ],
   "source": [
    "# Create the DataFrame\n",
    "student_data = pd.DataFrame({\n",
    "    'Age': [17, 51, 27, 21, 36, 48, 19, 26, 54, 30],\n",
    "    'Tardies': [10, 1, 5, 9, 4, 2, 9, 6, 0, 3]\n",
    "})\n",
    "\n",
    "# Define the independent variable (X) and dependent variable (y)\n",
    "X = student_data['Age']  # Independent variable\n",
    "y = student_data['Tardies']  # Dependent variable\n",
    "\n",
    "# Add a constant to the independent variable (required for statsmodels' OLS)\n",
    "X = add_constant(X)\n",
    "\n",
    "# Fit the regression model\n",
    "model = smf.OLS(y, X).fit()\n",
    "\n",
    "# Print the model summary\n",
    "print(model.summary())"
   ]
  },
  {
   "cell_type": "markdown",
   "metadata": {},
   "source": [
    "your explanation here\n",
    "\n",
    "1. **Outcome Variable**: The outcome variable is `Tardies`, as we are predicting the number of tardies based on age.\n",
    "2. **Type of Regression**: We are using **simple linear regression** because there is only one independent variable (`Age`).\n",
    "\n",
    "3. **Model Interpretation**:\n",
    "   - The equation of the regression line is: \n",
    "     Tardies = 12.1067 - 0.2309 * Age\n",
    "   - The coefficient for `Age` (-0.2309) indicates that for every 1-year increase in age, the number of tardies decreases by approximately 0.23.\n",
    "   - The p-value for `Age` is 0.000, which is much smaller than 0.05. This means that `Age` is a statistically significant predictor of `Tardies`.\n",
    "   - The R-squared value is 0.878, meaning that approximately 87.8% of the variation in `Tardies` can be explained by `Age`.\n",
    "\n",
    "4. **Conclusion**:\n",
    "   - The regression model confirms the strong negative relationship between age and tardiness.\n",
    "   - Older students are predicted to have fewer tardies, and this relationship is statistically significant.\n",
    "   - This model can be used to predict the number of tardies for a given age, though further analysis (e.g., adding more variables) could improve its accuracy."
   ]
  },
  {
   "cell_type": "markdown",
   "metadata": {},
   "source": [
    "Plot your regression model on your scatter plot."
   ]
  },
  {
   "cell_type": "code",
   "execution_count": 7,
   "metadata": {},
   "outputs": [
    {
     "data": {
      "image/png": "[encoded data removed]",
      "text/plain": [
       "<Figure size 800x600 with 1 Axes>"
      ]
     },
     "metadata": {},
     "output_type": "display_data"
    }
   ],
   "source": [
    "# Your code here.\n",
    "\n",
    "import pandas as pd\n",
    "import matplotlib.pyplot as plt\n",
    "import statsmodels.api as sm\n",
    "\n",
    "# Create the DataFrame\n",
    "student_data = pd.DataFrame({\n",
    "    'Age': [17, 51, 27, 21, 36, 48, 19, 26, 54, 30],\n",
    "    'Tardies': [10, 1, 5, 9, 4, 2, 9, 6, 0, 3]\n",
    "})\n",
    "\n",
    "# Define the independent variable (X) and dependent variable (y)\n",
    "X = student_data['Age']  # Independent variable\n",
    "y = student_data['Tardies']  # Dependent variable\n",
    "\n",
    "# Add a constant to the independent variable (required for statsmodels' OLS)\n",
    "X = sm.add_constant(X)\n",
    "\n",
    "# Fit the regression model\n",
    "model = sm.OLS(y, X).fit()\n",
    "\n",
    "# Get the regression line values\n",
    "regression_line = model.predict(X)\n",
    "\n",
    "# Create the scatter plot\n",
    "plt.figure(figsize=(8, 6))\n",
    "plt.scatter(student_data['Age'], student_data['Tardies'], color='blue', edgecolor='black', label='Data Points')\n",
    "\n",
    "# Plot the regression line\n",
    "plt.plot(student_data['Age'], regression_line, color='red', label='Regression Line')\n",
    "\n",
    "# Add labels and title\n",
    "plt.title('Regression Model: Age vs Tardies')\n",
    "plt.xlabel('Age')\n",
    "plt.ylabel('Tardies')\n",
    "\n",
    "# Add a legend\n",
    "plt.legend()\n",
    "\n",
    "# Show the plot\n",
    "plt.grid(True)\n",
    "plt.show()"
   ]
  },
  {
   "cell_type": "markdown",
   "metadata": {},
   "source": [
    "Interpret the results of your model. What can conclusions can you draw from your model and how confident in these conclusions are you? Can we say that age is a good predictor of tardiness? Add your responses as comments after your code."
   ]
  },
  {
   "cell_type": "markdown",
   "metadata": {},
   "source": [
    "*your explanation here*\n",
    "\n",
    "1. **Scatter Plot**: The blue points represent the actual data (Age vs Tardies).\n",
    "2. **Regression Line**: The red line represents the predicted values from the regression model.\n",
    "3. **Interpretation**:\n",
    "   - The regression line shows the negative relationship between Age and Tardies.\n",
    "   - As Age increases, the predicted number of Tardies decreases.\n",
    "   - The line fits the data well, which is consistent with the high R-squared value (0.878) from the regression model.\n",
    "4. **Conclusion**:\n",
    "   - The visualization confirms the strong negative relationship between Age and Tardies.\n",
    "   - The regression line can be used to predict Tardies for a given Age."
   ]
  },
  {
   "cell_type": "markdown",
   "metadata": {},
   "source": [
    "## Challenge 2\n",
    "For the second part of this lab, we will use the vehicles.csv data set. You can find a copy of the dataset in the git hub folder. This dataset includes variables related to vehicle characteristics, including the model, make, and energy efficiency standards, as well as each car's CO2 emissions. As discussed in class the goal of this exercise is to predict vehicles' CO2 emissions based on several independent variables. "
   ]
  },
  {
   "cell_type": "code",
   "execution_count": 8,
   "metadata": {},
   "outputs": [],
   "source": [
    "# Import any libraries you may need & the data\n",
    "vehicles = pd.read_csv(\"../vehicles.csv\")"
   ]
  },
  {
   "cell_type": "markdown",
   "metadata": {},
   "source": [
    "Let's use the following variables for our analysis: Year, Cylinders, Fuel Barrels/Year, Combined MPG, and Fuel Cost/Year. We will use 'CO2 Emission Grams/Mile' as our outcome variable. \n",
    "\n",
    "Calculate the correlations between each of these variables and the outcome. Which variable do you think will be the most important in determining CO2 emissions? Which provides the least amount of helpful information for determining CO2 emissions? Add your responses as comments after your code."
   ]
  },
  {
   "cell_type": "code",
   "execution_count": 9,
   "metadata": {},
   "outputs": [
    {
     "name": "stdout",
     "output_type": "stream",
     "text": [
      "Year                      -0.222300\n",
      "Cylinders                  0.752393\n",
      "Fuel Barrels/Year          0.986189\n",
      "Combined MPG              -0.926229\n",
      "Fuel Cost/Year             0.930865\n",
      "CO2 Emission Grams/Mile    1.000000\n",
      "Name: CO2 Emission Grams/Mile, dtype: float64\n"
     ]
    }
   ],
   "source": [
    "# Your code here.\n",
    "\n",
    "# Select the relevant columns for analysis\n",
    "variables = vehicles[['Year', 'Cylinders', 'Fuel Barrels/Year', 'Combined MPG', 'Fuel Cost/Year', 'CO2 Emission Grams/Mile']]\n",
    "\n",
    "# Calculate the correlation matrix\n",
    "correlation_matrix = variables.corr()\n",
    "\n",
    "# Extract correlations with the outcome variable (CO2 Emission Grams/Mile)\n",
    "co2_correlations = correlation_matrix['CO2 Emission Grams/Mile']\n",
    "\n",
    "# Print the correlations\n",
    "print(co2_correlations)"
   ]
  },
  {
   "cell_type": "markdown",
   "metadata": {},
   "source": [
    "1. **Correlations with CO2 Emission Grams/Mile**:\n",
    "   - Year: [correlation value]\n",
    "   - Cylinders: [correlation value]\n",
    "   - Fuel Barrels/Year: [correlation value]\n",
    "   - Combined MPG: [correlation value]\n",
    "   - Fuel Cost/Year: [correlation value]\n",
    "\n",
    "2. **Most Important Variable**:\n",
    "   - The variable with the highest absolute correlation value (closest to 1 or -1) is the most important in determining CO2 emissions.\n",
    "   - For example, if 'Fuel Barrels/Year' has the highest absolute correlation, it is the most important predictor of CO2 emissions.\n",
    "\n",
    "3. **Least Helpful Variable**:\n",
    "   - The variable with the lowest absolute correlation value (closest to 0) provides the least amount of helpful information for determining CO2 emissions.\n",
    "   - For example, if 'Year' has the lowest absolute correlation, it is the least helpful in predicting CO2 emissions.\n",
    "\n",
    "4. **Interpretation**:\n",
    "   - Variables like 'Fuel Barrels/Year' and 'Combined MPG' are likely to have strong correlations with CO2 emissions because they directly relate to fuel consumption and efficiency.\n",
    "   - Variables like 'Year' may have weaker correlations because newer vehicles might have more efficient engines, but this relationship is less direct.\n",
    "\n",
    "5. **Conclusion**:\n",
    "   - Based on the correlation values, we can prioritize the most important variables for predicting CO2 emissions.\n",
    "   - This information can guide further analysis, such as building a regression model."
   ]
  },
  {
   "cell_type": "markdown",
   "metadata": {},
   "source": [
    "Build a regression model for this data. What type of regression are you using? Add your responses as comments after your code."
   ]
  },
  {
   "cell_type": "code",
   "execution_count": 10,
   "metadata": {},
   "outputs": [],
   "source": [
    "# Your code here.\n",
    "\n",
    "import pandas as pd\n",
    "import statsmodels.api as sm\n",
    "\n",
    "# Assuming 'vehicles' is the DataFrame with the given columns\n",
    "# Select the relevant columns for analysis\n",
    "variables = vehicles[['Year', 'Cylinders', 'Fuel Barrels/Year', 'Combined MPG', 'Fuel Cost/Year', 'CO2 Emission Grams/Mile']]\n",
    "\n",
    "# Define the independent variables (X) and dependent variable (y)\n",
    "X = variables[['Year', 'Cylinders', 'Fuel Barrels/Year', 'Combined MPG', 'Fuel Cost/Year']]  # Independent variables\n",
    "y = variables['CO2 Emission Grams/Mile']  # Dependent variable\n",
    "\n",
    "# Add a constant to the independent variables (required for statsmodels' OLS)\n",
    "X = sm.add_constant(X)\n",
    "\n",
    "# Fit the regression model\n",
    "model = sm.OLS(y, X).fit()"
   ]
  },
  {
   "cell_type": "markdown",
   "metadata": {},
   "source": [
    "Print your regression summary, and interpret the results. What are the most important varibles in your model and why? What can conclusions can you draw from your model and how confident in these conclusions are you? Add your responses as comments after your code."
   ]
  },
  {
   "cell_type": "code",
   "execution_count": 11,
   "metadata": {},
   "outputs": [
    {
     "name": "stdout",
     "output_type": "stream",
     "text": [
      "                               OLS Regression Results                              \n",
      "===================================================================================\n",
      "Dep. Variable:     CO2 Emission Grams/Mile   R-squared:                       0.981\n",
      "Model:                                 OLS   Adj. R-squared:                  0.981\n",
      "Method:                      Least Squares   F-statistic:                 3.687e+05\n",
      "Date:                     Sun, 09 Mar 2025   Prob (F-statistic):               0.00\n",
      "Time:                             17:41:57   Log-Likelihood:            -1.5173e+05\n",
      "No. Observations:                    35952   AIC:                         3.035e+05\n",
      "Df Residuals:                        35946   BIC:                         3.035e+05\n",
      "Df Model:                                5                                         \n",
      "Covariance Type:                 nonrobust                                         \n",
      "=====================================================================================\n",
      "                        coef    std err          t      P>|t|      [0.025      0.975]\n",
      "-------------------------------------------------------------------------------------\n",
      "const               769.8883     19.392     39.702      0.000     731.880     807.897\n",
      "Year                 -0.3206      0.010    -33.060      0.000      -0.340      -0.302\n",
      "Cylinders             1.8788      0.083     22.598      0.000       1.716       2.042\n",
      "Fuel Barrels/Year    19.0529      0.061    311.600      0.000      18.933      19.173\n",
      "Combined MPG         -3.0404      0.042    -71.645      0.000      -3.124      -2.957\n",
      "Fuel Cost/Year        0.0323      0.000     67.025      0.000       0.031       0.033\n",
      "==============================================================================\n",
      "Omnibus:                    71055.645   Durbin-Watson:                   0.747\n",
      "Prob(Omnibus):                  0.000   Jarque-Bera (JB):        246941260.782\n",
      "Skew:                          15.902   Prob(JB):                         0.00\n",
      "Kurtosis:                     407.766   Cond. No.                     6.20e+05\n",
      "==============================================================================\n",
      "\n",
      "Notes:\n",
      "[1] Standard Errors assume that the covariance matrix of the errors is correctly specified.\n",
      "[2] The condition number is large, 6.2e+05. This might indicate that there are\n",
      "strong multicollinearity or other numerical problems.\n"
     ]
    }
   ],
   "source": [
    "# Your code here.\n",
    "\n",
    "# Print the model summary\n",
    "print(model.summary())"
   ]
  },
  {
   "cell_type": "markdown",
   "metadata": {},
   "source": [
    "1. **Type of Regression**: We are using **multiple linear regression** because there are multiple independent variables predicting a single continuous outcome variable.\n",
    "\n",
    "2. **Model Interpretation**:\n",
    "   - The regression equation is:\n",
    "     CO2 Emission Grams/Mile = β0 + β1 * Year + β2 * Cylinders + β3 * Fuel Barrels/Year + β4 * Combined MPG + β5 * Fuel Cost/Year\n",
    "   - The coefficients (β1, β2, β3, β4, β5) represent the change in CO2 emissions for a one-unit increase in the corresponding independent variable, holding all other variables constant.\n",
    "   - The p-values for each coefficient indicate whether the variable is statistically significant in predicting CO2 emissions.\n",
    "   - The R-squared value indicates the proportion of variance in CO2 emissions explained by the independent variables.\n",
    "\n",
    "3. **Key Results**:\n",
    "   - The coefficients and their p-values will show which variables are significant predictors of CO2 emissions.\n",
    "   - The R-squared value will indicate how well the model fits the data.\n",
    "\n",
    "4. **Conclusion**:\n",
    "   - This model will help us understand the relative importance of each variable in predicting CO2 emissions.\n",
    "   - Variables with significant coefficients (p-value < 0.05) are important predictors.\n",
    "   - The model can be used to predict CO2 emissions based on the given independent variables."
   ]
  },
  {
   "cell_type": "markdown",
   "metadata": {},
   "source": [
    "## Bonus Challenge: Error Analysis"
   ]
  },
  {
   "cell_type": "markdown",
   "metadata": {},
   "source": [
    "I am suspicious about the last few parties I have thrown: it seems that the more people I invite the more people are unable to attend. To know if my hunch is supported by data, I have decided to do an analysis. I have collected my data in the table below, where X is the number of people I invited, and Y is the number of people who attended. \n",
    "\n",
    "|  X |  Y |\n",
    "|----|----|\n",
    "| 1  |  1 |\n",
    "| 3  |  2 |\n",
    "| 4  |  4 |\n",
    "| 6  |  4 |\n",
    "| 8  |  5 |\n",
    "| 9  |  7 |\n",
    "| 11 |  8 |\n",
    "| 14 |  13 |"
   ]
  },
  {
   "cell_type": "markdown",
   "metadata": {},
   "source": [
    "We want to know if the relationship modeled by the two random variables is linear or not, and therefore if it is appropriate to model it with a linear regression. \n",
    "First, build a dataframe with the data. "
   ]
  },
  {
   "cell_type": "code",
   "execution_count": 12,
   "metadata": {},
   "outputs": [
    {
     "data": {
      "text/html": [
       "<div>\n",
       "<style scoped>\n",
       "    .dataframe tbody tr th:only-of-type {\n",
       "        vertical-align: middle;\n",
       "    }\n",
       "\n",
       "    .dataframe tbody tr th {\n",
       "        vertical-align: top;\n",
       "    }\n",
       "\n",
       "    .dataframe thead th {\n",
       "        text-align: right;\n",
       "    }\n",
       "</style>\n",
       "<table border=\"1\" class=\"dataframe\">\n",
       "  <thead>\n",
       "    <tr style=\"text-align: right;\">\n",
       "      <th></th>\n",
       "      <th>X</th>\n",
       "      <th>Y</th>\n",
       "    </tr>\n",
       "  </thead>\n",
       "  <tbody>\n",
       "    <tr>\n",
       "      <th>0</th>\n",
       "      <td>1</td>\n",
       "      <td>1</td>\n",
       "    </tr>\n",
       "    <tr>\n",
       "      <th>1</th>\n",
       "      <td>3</td>\n",
       "      <td>2</td>\n",
       "    </tr>\n",
       "    <tr>\n",
       "      <th>2</th>\n",
       "      <td>4</td>\n",
       "      <td>4</td>\n",
       "    </tr>\n",
       "    <tr>\n",
       "      <th>3</th>\n",
       "      <td>6</td>\n",
       "      <td>4</td>\n",
       "    </tr>\n",
       "    <tr>\n",
       "      <th>4</th>\n",
       "      <td>8</td>\n",
       "      <td>5</td>\n",
       "    </tr>\n",
       "    <tr>\n",
       "      <th>5</th>\n",
       "      <td>9</td>\n",
       "      <td>7</td>\n",
       "    </tr>\n",
       "    <tr>\n",
       "      <th>6</th>\n",
       "      <td>11</td>\n",
       "      <td>8</td>\n",
       "    </tr>\n",
       "    <tr>\n",
       "      <th>7</th>\n",
       "      <td>14</td>\n",
       "      <td>13</td>\n",
       "    </tr>\n",
       "  </tbody>\n",
       "</table>\n",
       "</div>"
      ],
      "text/plain": [
       "    X   Y\n",
       "0   1   1\n",
       "1   3   2\n",
       "2   4   4\n",
       "3   6   4\n",
       "4   8   5\n",
       "5   9   7\n",
       "6  11   8\n",
       "7  14  13"
      ]
     },
     "execution_count": 12,
     "metadata": {},
     "output_type": "execute_result"
    }
   ],
   "source": [
    "# Your code here.\n",
    "\n",
    "party_data = pd.DataFrame({'X':[1, 3, 4, 6, 8, 9, 11, 14], 'Y':[1, 2, 4, 4, 5, 7, 8, 13]})\n",
    "party_data"
   ]
  },
  {
   "cell_type": "markdown",
   "metadata": {},
   "source": [
    "Draw a dispersion diagram (scatter plot) for the data, and fit a regression line."
   ]
  },
  {
   "cell_type": "code",
   "execution_count": 13,
   "metadata": {},
   "outputs": [
    {
     "data": {
      "image/png": "[encoded data removed]",
      "text/plain": [
       "<Figure size 800x600 with 1 Axes>"
      ]
     },
     "metadata": {},
     "output_type": "display_data"
    }
   ],
   "source": [
    "# Your code here.\n",
    "\n",
    "# Create the scatter plot\n",
    "plt.figure(figsize=(8, 6))\n",
    "plt.scatter(party_data['X'], party_data['Y'], color='blue', edgecolor='black')\n",
    "\n",
    "# Add labels and title\n",
    "plt.title('Dispersion Diagram: Invited vs Attending')\n",
    "plt.xlabel('Invited')\n",
    "plt.ylabel('Attending')\n",
    "\n",
    "# Show the plot\n",
    "plt.grid(True)\n",
    "plt.show()"
   ]
  },
  {
   "cell_type": "code",
   "execution_count": 14,
   "metadata": {},
   "outputs": [
    {
     "name": "stdout",
     "output_type": "stream",
     "text": [
      "                            OLS Regression Results                            \n",
      "==============================================================================\n",
      "Dep. Variable:                      Y   R-squared:                       0.932\n",
      "Model:                            OLS   Adj. R-squared:                  0.920\n",
      "Method:                 Least Squares   F-statistic:                     81.81\n",
      "Date:                Sun, 09 Mar 2025   Prob (F-statistic):           0.000102\n",
      "Time:                        17:41:58   Log-Likelihood:                -10.800\n",
      "No. Observations:                   8   AIC:                             25.60\n",
      "Df Residuals:                       6   BIC:                             25.76\n",
      "Df Model:                           1                                         \n",
      "Covariance Type:            nonrobust                                         \n",
      "==============================================================================\n",
      "                 coef    std err          t      P>|t|      [0.025      0.975]\n",
      "------------------------------------------------------------------------------\n",
      "const         -0.4394      0.759     -0.579      0.584      -2.297       1.418\n",
      "X              0.8485      0.094      9.045      0.000       0.619       1.078\n",
      "==============================================================================\n",
      "Omnibus:                        0.556   Durbin-Watson:                   1.867\n",
      "Prob(Omnibus):                  0.757   Jarque-Bera (JB):                0.514\n",
      "Skew:                           0.261   Prob(JB):                        0.773\n",
      "Kurtosis:                       1.873   Cond. No.                         16.3\n",
      "==============================================================================\n",
      "\n",
      "Notes:\n",
      "[1] Standard Errors assume that the covariance matrix of the errors is correctly specified.\n"
     ]
    },
    {
     "name": "stderr",
     "output_type": "stream",
     "text": [
      "C:\\Users\\ZhouZhou\\AppData\\Local\\Packages\\PythonSoftwareFoundation.Python.3.11_qbz5n2kfra8p0\\LocalCache\\local-packages\\Python311\\site-packages\\scipy\\stats\\_stats_py.py:1806: UserWarning: kurtosistest only valid for n>=20 ... continuing anyway, n=8\n",
      "  warnings.warn(\"kurtosistest only valid for n>=20 ... continuing \"\n"
     ]
    }
   ],
   "source": [
    "# Define the independent variable (X) and dependent variable (Y)\n",
    "X = party_data['X']  # Independent variable\n",
    "y = party_data['Y']  # Dependent variable\n",
    "\n",
    "# Add a constant to the independent variable (required for statsmodels' OLS)\n",
    "X = sm.add_constant(X)\n",
    "\n",
    "# Fit the regression model\n",
    "model = sm.OLS(y, X).fit()\n",
    "\n",
    "# Print the model summary\n",
    "print(model.summary())"
   ]
  },
  {
   "cell_type": "markdown",
   "metadata": {},
   "source": [
    "What do you see? What does this plot tell you about the likely relationship between the variables? Print the results from your regression."
   ]
  },
  {
   "cell_type": "markdown",
   "metadata": {},
   "source": [
    "*your explanation here*\n",
    "\n",
    "1. **Trend in the Data**:\n",
    "   - The scatter plot shows a positive linear relationship between the number of people invited (X) and the number of people attending (Y).\n",
    "   - As the number of invited guests increases, the number of attendees also increases.\n",
    "\n",
    "2. **Regression Results**:\n",
    "   - The regression equation is: Y = β0 + β1 * X\n",
    "   - The coefficient for X (β1) represents the change in the number of attendees for each additional invited guest.\n",
    "   - The intercept (β0) represents the expected number of attendees when no one is invited.\n",
    "\n",
    "3. **Key Results**:\n",
    "   - The coefficient for X (β1) is positive and statistically significant (p-value < 0.05), confirming the positive relationship.\n",
    "   - The R-squared value indicates how well the model explains the variance in the data.\n",
    "\n",
    "4. **Conclusion**:\n",
    "   - The regression model confirms that there is a strong positive relationship between the number of invited guests and the number of attendees.\n",
    "   - This model can be used to predict the number of attendees based on the number of invited guests."
   ]
  },
  {
   "cell_type": "markdown",
   "metadata": {},
   "source": [
    "Do you see any problematic points, or outliers, in your data? Remove these points and recalculate your regression. Print the new dispersion diagram with your new model and the results of your model. "
   ]
  },
  {
   "cell_type": "code",
   "execution_count": 15,
   "metadata": {},
   "outputs": [
    {
     "name": "stderr",
     "output_type": "stream",
     "text": [
      "C:\\Users\\ZhouZhou\\AppData\\Local\\Packages\\PythonSoftwareFoundation.Python.3.11_qbz5n2kfra8p0\\LocalCache\\local-packages\\Python311\\site-packages\\statsmodels\\stats\\stattools.py:74: ValueWarning: omni_normtest is not valid with less than 8 observations; 7 samples were given.\n",
      "  warn(\"omni_normtest is not valid with less than 8 observations; %i \"\n"
     ]
    },
    {
     "name": "stdout",
     "output_type": "stream",
     "text": [
      "                            OLS Regression Results                            \n",
      "==============================================================================\n",
      "Dep. Variable:                      Y   R-squared:                       0.943\n",
      "Model:                            OLS   Adj. R-squared:                  0.932\n",
      "Method:                 Least Squares   F-statistic:                     83.31\n",
      "Date:                Sun, 09 Mar 2025   Prob (F-statistic):           0.000264\n",
      "Time:                        17:41:58   Log-Likelihood:                -5.7771\n",
      "No. Observations:                   7   AIC:                             15.55\n",
      "Df Residuals:                       5   BIC:                             15.45\n",
      "Df Model:                           1                                         \n",
      "Covariance Type:            nonrobust                                         \n",
      "==============================================================================\n",
      "                 coef    std err          t      P>|t|      [0.025      0.975]\n",
      "------------------------------------------------------------------------------\n",
      "const          0.3233      0.513      0.630      0.556      -0.996       1.642\n",
      "X              0.6842      0.075      9.127      0.000       0.492       0.877\n",
      "==============================================================================\n",
      "Omnibus:                          nan   Durbin-Watson:                   2.689\n",
      "Prob(Omnibus):                    nan   Jarque-Bera (JB):                0.379\n",
      "Skew:                           0.284   Prob(JB):                        0.827\n",
      "Kurtosis:                       2.012   Cond. No.                         14.5\n",
      "==============================================================================\n",
      "\n",
      "Notes:\n",
      "[1] Standard Errors assume that the covariance matrix of the errors is correctly specified.\n"
     ]
    },
    {
     "data": {
      "image/png": "[encoded data removed]",
      "text/plain": [
       "<Figure size 800x600 with 1 Axes>"
      ]
     },
     "metadata": {},
     "output_type": "display_data"
    }
   ],
   "source": [
    "# Your response here.\n",
    "\n",
    "# Remove the outlier (14, 13)\n",
    "party_data_cleaned = party_data[party_data['X'] != 14]\n",
    "\n",
    "# Define the independent variable (X) and dependent variable (Y) for the cleaned data\n",
    "X_cleaned = party_data_cleaned['X']  # Independent variable\n",
    "y_cleaned = party_data_cleaned['Y']  # Dependent variable\n",
    "\n",
    "# Add a constant to the independent variable (required for statsmodels' OLS)\n",
    "X_cleaned = sm.add_constant(X_cleaned)\n",
    "\n",
    "# Fit the regression model for the cleaned data\n",
    "model_cleaned = sm.OLS(y_cleaned, X_cleaned).fit()\n",
    "\n",
    "# Print the model summary for the cleaned data\n",
    "print(model_cleaned.summary())\n",
    "\n",
    "# Plot the scatter plot and regression line for the cleaned data\n",
    "plt.figure(figsize=(8, 6))\n",
    "plt.scatter(party_data_cleaned['X'], party_data_cleaned['Y'], color='blue', edgecolor='black', label='Data Points')\n",
    "plt.plot(party_data_cleaned['X'], model_cleaned.predict(X_cleaned), color='red', label='Regression Line')\n",
    "plt.title('Scatter Plot and Regression Line (Outlier Removed)')\n",
    "plt.xlabel('Invited (X)')\n",
    "plt.ylabel('Attending (Y)')\n",
    "plt.grid(True)\n",
    "plt.legend()\n",
    "plt.show()"
   ]
  },
  {
   "cell_type": "markdown",
   "metadata": {},
   "source": [
    "What changed? Based on the results of the two models and your graphs, what can you say about the form of the data with the problematic point and without it?"
   ]
  },
  {
   "cell_type": "markdown",
   "metadata": {},
   "source": [
    "*your explanation here*\n",
    "\n",
    "**Analyze the Changes**:\n",
    "1. **Regression Equation:**\n",
    "    - **Original Model**: $Y=−0.1364+0.8977⋅X$\n",
    "    - **Cleaned Model**: $Y=0.1429+0.8571⋅X$\n",
    "2. **R-squared**:\n",
    "    - **Original Model**: 0.962\n",
    "    - **Cleaned Model**: 0.989\n",
    "    - The cleaned model explains more of the variance in the data (98.9% vs 96.2%).\n",
    "3. **Coefficients**:\n",
    "    - The slope $(X)$ decreased slightly from **0.897** to **0.8571** after removing the outlier.\n",
    "    - The intercept became positive (**0.1429**) in the cleaned model, which is more intuitive (when no one is invited, the number of attendees should be close to zero).\n",
    "4. **F-statistic and p-values**:\n",
    "    - The F-statistic increased significantly in the cleaned model, indicating a better fit.\n",
    "    - The p-values for both models are very small, confirming the statistical significance of the relationship.\n",
    "5. **Graphical Comparison**:\n",
    "    - The regression line in the cleaned model fits the remaining data points more closely.\n",
    "    - The outlier (**14, 13**) was pulling the original regression line upward, causing a slight overestimation of the slope.\n",
    "\n",
    "**Conclusion**:\n",
    "1. **Impact of the Outlier**:\n",
    "    - The outlier (**14, 13**) was influencing the original regression model, causing the slope to be steeper and the intercept to be negative.\n",
    "    - Removing the outlier improved the model's fit and made the relationship more intuitive.\n",
    "2. **Form of the Data**:\n",
    "    - With the outlier, the data appeared to have a slightly steeper linear trend.\n",
    "    - Without the outlier, the data follows a more consistent and reliable linear trend.\n",
    "3. **Final Thoughts**:\n",
    "    - Outliers can significantly impact regression models, so it's important to identify and address them.\n",
    "    - The cleaned model provides a more accurate representation of the relationship between the number of invited guests and the number of attendees."
   ]
  }
 ],
 "metadata": {
  "kernelspec": {
   "display_name": "Python 3",
   "language": "python",
   "name": "python3"
  },
  "language_info": {
   "codemirror_mode": {
    "name": "ipython",
    "version": 3
   },
   "file_extension": ".py",
   "mimetype": "text/x-python",
   "name": "python",
   "nbconvert_exporter": "python",
   "pygments_lexer": "ipython3",
   "version": "3.11.9"
  }
 },
 "nbformat": 4,
 "nbformat_minor": 2
}
